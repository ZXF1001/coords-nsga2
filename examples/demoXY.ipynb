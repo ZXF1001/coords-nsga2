{
 "cells": [
  {
   "cell_type": "code",
   "execution_count": null,
   "metadata": {},
   "outputs": [],
   "source": [
    "import numpy as np\n",
    "import matplotlib.pyplot as plt\n",
    "from shapely.geometry import Polygon, MultiPolygon\n",
    "from scipy.spatial import distance\n",
    "\n",
    "import sys\n",
    "sys.path.append('../class/')\n",
    "from NSGA2 import NSGA2_XY"
   ]
  },
  {
   "cell_type": "code",
   "execution_count": 11,
   "metadata": {},
   "outputs": [],
   "source": [
    "# 创建风场\n",
    "from py_wake.examples.data.hornsrev1 import Hornsrev1Site\n",
    "site = Hornsrev1Site()\n",
    "\n",
    "# 创建风力机\n",
    "from py_wake.wind_turbines import WindTurbine\n",
    "from py_wake.wind_turbines.power_ct_functions import PowerCtTabular\n",
    "\n",
    "u = np.array([0.0, 2.0, 2.5, 3.0, 3.5, 4.0, 4.5, 5.0, 5.5, 6.0, 6.5, 7.0, 7.5, 8.0, 8.5, 9.0, 9.5, 10.0, 10.5, 11.0, 11.5, 12.0, 12.5, 13.0, 13.5, 14.0, 14.5, 15.0, 15.5, 16.0, 16.5, 17.0, 17.5, 18.0, 18.5, 19.0, 19.5, 20.0, 20.5, 21.0, 21.5, 22.0, 22.5, 23.0, 23.5, 24.0, 24.5, 25.0, 25.01, 25.02, 50.0])\n",
    "cp = np.array([0.0, 0.000000, 0.000000, 0.178085, 0.289075, 0.349022, 0.384728, 0.406059, 0.420228, 0.428823, 0.433873, 0.436223, 0.436845, 0.436575, 0.436511, 0.436561, 0.436517, 0.435903, 0.434673, 0.433230, 0.430466, 0.378869, 0.335199, 0.297991, 0.266092, 0.238588, 0.214748, 0.193981, 0.175808, 0.159835, 0.145741, 0.133256, 0.122157, 0.112257, 0.103399, 0.095449, 0.088294, 0.081836, 0.075993, 0.070692, 0.065875, 0.061484, 0.057476, 0.053809, 0.050447, 0.047358, 0.044518, 0.041900, 0.039483, 0.0, 0.0])\n",
    "ct = np.array([0.0, 0.0, 0.0, 0.99, 0.99, 0.97373036, 0.92826162, 0.89210543, 0.86100905, 0.835423, 0.81237673, 0.79225789, 0.77584769, 0.7629228, 0.76156073, 0.76261984, 0.76169723, 0.75232027, 0.74026851, 0.72987175, 0.70701647, 0.54054532, 0.45509459, 0.39343381, 0.34250785, 0.30487242, 0.27164979, 0.24361964, 0.21973831, 0.19918151, 0.18131868, 0.16537679, 0.15103727, 0.13998636, 0.1289037, 0.11970413, 0.11087113, 0.10339901, 0.09617888, 0.09009926, 0.08395078, 0.0791188, 0.07448356, 0.07050731, 0.06684119, 0.06345518, 0.06032267, 0.05741999, 0.05472609, 0.0, 0.0])\n",
    "power=0.5*1.225*(np.pi*63**2)*cp*u**3\n",
    "\n",
    "wt = WindTurbine(name=\"NREL 5MW\",\n",
    "                 diameter=126.0,\n",
    "                 hub_height=90.0,\n",
    "                 powerCtFunction=PowerCtTabular(\n",
    "                     ws=u,\n",
    "                     ws_cutin=3,\n",
    "                     ws_cutout=25,\n",
    "                     power=power,\n",
    "                     power_unit=\"W\",\n",
    "                     ct=ct))\n",
    "\n",
    "# 创建模型\n",
    "from py_wake import BastankhahGaussian\n",
    "from py_wake.turbulence_models.stf import STF2017TurbulenceModel\n",
    "\n",
    "wf_model = BastankhahGaussian(site, wt, turbulenceModel = STF2017TurbulenceModel())\n",
    "\n",
    "# 创建边界\n",
    "from py_wake.examples.data.hornsrev1 import wt_x, wt_y\n",
    "point_index = [0, 7, 79, 72]\n",
    "polygon = Polygon([\n",
    "    [wt_x[i], wt_y[i]]\n",
    "    for i in point_index\n",
    "])\n",
    "multi_polygon = MultiPolygon([polygon])"
   ]
  },
  {
   "cell_type": "code",
   "execution_count": 12,
   "metadata": {},
   "outputs": [],
   "source": [
    "# 定义目标函数1：AEP\n",
    "wd_list = np.linspace(0,360,16,endpoint=False)\n",
    "ws_list = np.linspace(3,25,10)\n",
    "\n",
    "def aepCalc(wt_x_y):\n",
    "    try:\n",
    "        _x, _y = wt_x_y[:, 0], wt_x_y[:, 1]\n",
    "        res = wf_model(_x,_y, wd=wd_list, ws=ws_list)\n",
    "        aep = res.aep().sum().item()\n",
    "        return aep, res\n",
    "    \n",
    "    except Exception as e: # 防止两台风力机突变到了相同的位置\n",
    "        print(e)\n",
    "        return 0\n",
    "\n",
    "wt_x_y = np.array([[0, 0], [100, 0], [300, 0], [500, 0]])\n",
    "aep, res = aepCalc(wt_x_y)"
   ]
  },
  {
   "cell_type": "code",
   "execution_count": 13,
   "metadata": {},
   "outputs": [],
   "source": [
    "# 定义目标函数2：载荷\n",
    "import catboost as cb\n",
    "import xarray as xr\n",
    "\n",
    "# 读取模型\n",
    "model_cb = cb.CatBoostRegressor()\n",
    "model_cb.load_model(\"../../01_SurrogateModel/02_Train/EL/CatBoost/center_input_test/test_model.cbm\")\n",
    "\n",
    "def concatInput(ws_array, ti_array):\n",
    "    # 将两个输入的数组按照(ws,ti)进行拼接\n",
    "    ws_expanded = np.expand_dims(ws_array, axis=-1)\n",
    "    ti_expanded = np.expand_dims(ti_array, axis=-1)\n",
    "    return np.concatenate((ws_expanded, ti_expanded), axis=-1)\n",
    "\n",
    "\n",
    "def callSurrogate(input_array, model):\n",
    "    # 将结构化的输入展平成能用于预测的输入，并进行预测\n",
    "    x = input_array.reshape(-1, input_array.shape[-1])\n",
    "    y_pred = model.predict(x)\n",
    "    return y_pred\n",
    "\n",
    "def getLoad(simulationResult, model, m=10):\n",
    "    WS_eff_array = simulationResult.WS_eff.to_numpy()\n",
    "    TI_eff_array = simulationResult.TI_eff.to_numpy()\n",
    "    input_array = concatInput(WS_eff_array, TI_eff_array)\n",
    "    del_list = callSurrogate(input_array, model=model)\n",
    "    del_reshaped = del_list.reshape(WS_eff_array.shape)\n",
    "\n",
    "    # 生成结果xarray.Dataset\n",
    "    load_res = xr.Dataset()\n",
    "    load_res[\"DEL\"] = xr.DataArray(del_reshaped,\n",
    "                                   dims=simulationResult.WS_eff.dims,\n",
    "                                   coords=simulationResult.WS_eff.coords)\n",
    "\n",
    "    load_res['P'] = simulationResult.P\n",
    "    # 计算LDEL\n",
    "    lifetime_years = 20\n",
    "    n_eq_lifetime = 1e7\n",
    "    f = load_res[\"DEL\"].mean()\n",
    "    t_flowcase = load_res.P * 3600 * 24 * 365 * lifetime_years\n",
    "    ldel = ((t_flowcase * (load_res[\"DEL\"] / f)**m).sum(\n",
    "        ('wd', 'ws')) / n_eq_lifetime)**(1 / m) * f\n",
    "    return ldel.to_numpy()\n",
    "\n",
    "def ldelCalc(res):\n",
    "    return -getLoad(res, model_cb, m=10).max()\n",
    "\n",
    "# ldelCalc(res)"
   ]
  },
  {
   "cell_type": "code",
   "execution_count": null,
   "metadata": {},
   "outputs": [],
   "source": [
    "#* 这是并行的评估函数，只有在目标函数耗时较大时才有显著加速，对于简单的函数不太适用。\n",
    "\n",
    "# from joblib import Parallel, delayed\n",
    "# def evaluation(self, population):\n",
    "#     def calc(ind):\n",
    "#         func1, res = aepCalc(ind)\n",
    "#         func2 = ldelCalc(res)\n",
    "#         return func1, func2\n",
    "    \n",
    "#     parallel_obj = Parallel(n_jobs=8)\n",
    "#     results = parallel_obj(delayed(calc)(ind) for ind in population)\n",
    "#     func1_values, func2_values = zip(*results)\n",
    "#     func1_values = list(func1_values)\n",
    "#     func2_values = list(func2_values)\n",
    "\n",
    "#     ## 评估约束惩罚函数\n",
    "#     if len(self.constraints)>0:\n",
    "#         constraints_penalty = 1e5 * np.array([np.sum([con(x) for con in self.constraints]) for x in population])\n",
    "#         func1_values -= constraints_penalty\n",
    "#         func2_values -= constraints_penalty\n",
    "#     return func1_values, func2_values\n",
    "\n",
    "# NSGA2_XY.evaluation = evaluation"
   ]
  },
  {
   "cell_type": "code",
   "execution_count": 15,
   "metadata": {},
   "outputs": [],
   "source": [
    "def evaluation(self, population):\n",
    "    func1_values = []\n",
    "    func2_values = []\n",
    "    for i in range(len(population)):\n",
    "        func1, res = aepCalc(population[i])\n",
    "        func2 = ldelCalc(res)\n",
    "        func1_values.append(func1)\n",
    "        func2_values.append(func2)\n",
    "    # func1_values = np.array([self.func1(x) for x in population])\n",
    "    # func2_values = np.array([self.func2(x) for x in population])\n",
    "    ## 评估约束惩罚函数\n",
    "    if len(self.constraints)>0:\n",
    "        constraints_penalty = 1e5 * np.array([np.sum([con(x) for con in self.constraints]) for x in population])\n",
    "        func1_values -= constraints_penalty\n",
    "        func2_values -= constraints_penalty\n",
    "    return func1_values, func2_values\n",
    "\n",
    "NSGA2_XY.evaluation = evaluation"
   ]
  },
  {
   "cell_type": "code",
   "execution_count": 16,
   "metadata": {},
   "outputs": [],
   "source": [
    "# 定义约束函数：\n",
    "## 两点间距不小于spacing\n",
    "spacing = 126*4\n",
    "def spacing_constraint(xy):\n",
    "    dist_list=distance.pdist(xy)\n",
    "    penalty_list=spacing-dist_list[dist_list<spacing]\n",
    "    penalty_sum=np.sum(penalty_list)\n",
    "    return penalty_sum\n"
   ]
  },
  {
   "cell_type": "code",
   "execution_count": 17,
   "metadata": {},
   "outputs": [],
   "source": [
    "optimizer = NSGA2_XY(func1=aepCalc,\n",
    "                     func2=ldelCalc,\n",
    "                     pop_size=20,\n",
    "                     n_dim=20,\n",
    "                     prob_cross=0.9,\n",
    "                     prob_mut=0.1,\n",
    "                     polygons=multi_polygon,\n",
    "                     constraints=[spacing_constraint],\n",
    "                     random_seed=10)"
   ]
  },
  {
   "cell_type": "code",
   "execution_count": 18,
   "metadata": {},
   "outputs": [
    {
     "name": "stderr",
     "output_type": "stream",
     "text": [
      "100%|██████████| 1000/1000 [17:22<00:00,  1.04s/it]\n"
     ]
    }
   ],
   "source": [
    "loc = optimizer.run(1000)"
   ]
  },
  {
   "cell_type": "code",
   "execution_count": 19,
   "metadata": {},
   "outputs": [
    {
     "data": {
      "text/plain": [
       "Text(0, 0.5, 'LDEL')"
      ]
     },
     "execution_count": 19,
     "metadata": {},
     "output_type": "execute_result"
    },
    {
     "data": {
      "image/png": "[encoded data removed]",
      "text/plain": [
       "<Figure size 640x480 with 1 Axes>"
      ]
     },
     "metadata": {},
     "output_type": "display_data"
    }
   ],
   "source": [
    "plt.scatter(optimizer.values1_P, optimizer.values2_P)\n",
    "for i in range(optimizer.pop_size):\n",
    "    plt.text(optimizer.values1_P[i], optimizer.values2_P[i], str(i))\n",
    "\n",
    "plt.xlabel('AEP')\n",
    "plt.ylabel('LDEL')"
   ]
  },
  {
   "cell_type": "code",
   "execution_count": 23,
   "metadata": {},
   "outputs": [
    {
     "data": {
      "image/png": "[encoded data removed]",
      "text/plain": [
       "<Figure size 640x480 with 1 Axes>"
      ]
     },
     "metadata": {},
     "output_type": "display_data"
    }
   ],
   "source": [
    "i = 0\n",
    "plt.scatter(optimizer.P[i][:,0], optimizer.P[i][:,1])\n",
    "\n",
    "# # 绘制多边形区域\n",
    "for polygon in multi_polygon.geoms:\n",
    "    plt.plot(*polygon.exterior.xy, color='g')\n",
    "plt.axis('equal')\n",
    "plt.show()"
   ]
  },
  {
   "cell_type": "code",
   "execution_count": 21,
   "metadata": {},
   "outputs": [],
   "source": [
    "# import multiprocessing\n",
    "# import numpy as np\n",
    "\n",
    "# def evaluation_individual(individual):\n",
    "#     # 将数据处理函数定义为工作者进程可被调用的静态函数\n",
    "#     func1 = individual**2\n",
    "#     func2 = individual**3\n",
    "#     return func1, func2\n",
    "\n",
    "# # population 数据也从主块中移出以便在 Jupyter 中运行\n",
    "# population = np.random.rand(100, 1)\n",
    "\n",
    "# # 使用 pool.map，适用于并行化的版本\n",
    "# pool = multiprocessing.Pool()  # 不使用 with 方式\n",
    "\n",
    "# try:\n",
    "#     results = pool.map(evaluation_individual, population)\n",
    "\n",
    "# finally:\n",
    "#     # 确保在所有情况下池都能合理关闭\n",
    "#     pool.close()\n",
    "#     pool.join()\n",
    "\n",
    "# # 处理返回结果\n",
    "# func1_values, func2_values = zip(*results)\n",
    "# func1_values = list(func1_values)\n",
    "# func2_values = list(func2_values)\n",
    "\n",
    "# print(func1_values)\n",
    "# print(func2_values)"
   ]
  },
  {
   "cell_type": "code",
   "execution_count": 22,
   "metadata": {},
   "outputs": [],
   "source": [
    "# from joblib import Parallel, delayed\n",
    "# import numpy as np\n",
    "\n",
    "# def evaluation_individual(individual):\n",
    "#     return individual**2, individual**3\n",
    "\n",
    "# population = np.random.rand(100, 1)\n",
    "# parallel_obj = Parallel(n_jobs=4)\n",
    "# results = parallel_obj(delayed(evaluation_individual)(ind) for ind in population)\n",
    "\n",
    "# func1_values, func2_values = zip(*results)\n",
    "# func1_values = list(func1_values)\n",
    "# func2_values = list(func2_values)\n",
    "\n",
    "# print(func1_values)\n",
    "# print(func2_values)"
   ]
  }
 ],
 "metadata": {
  "kernelspec": {
   "display_name": "pywake250",
   "language": "python",
   "name": "python3"
  },
  "language_info": {
   "codemirror_mode": {
    "name": "ipython",
    "version": 3
   },
   "file_extension": ".py",
   "mimetype": "text/x-python",
   "name": "python",
   "nbconvert_exporter": "python",
   "pygments_lexer": "ipython3",
   "version": "3.8.16"
  }
 },
 "nbformat": 4,
 "nbformat_minor": 2
}
