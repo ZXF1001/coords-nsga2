{
 "cells": [
  {
   "cell_type": "code",
   "execution_count": 3,
   "id": "a7089cec",
   "metadata": {},
   "outputs": [],
   "source": [
    "import numpy as np"
   ]
  },
  {
   "cell_type": "code",
   "execution_count": 7,
   "id": "47847218",
   "metadata": {},
   "outputs": [],
   "source": [
    "coords = np.array([\n",
    "    [1,2],\n",
    "    [3, 1],\n",
    "    [2, 1]\n",
    "])"
   ]
  },
  {
   "cell_type": "code",
   "execution_count": 9,
   "id": "1875f0d9",
   "metadata": {},
   "outputs": [
    {
     "data": {
      "text/plain": [
       "array([2.23606798, 3.16227766, 2.23606798])"
      ]
     },
     "execution_count": 9,
     "metadata": {},
     "output_type": "execute_result"
    }
   ],
   "source": [
    "np.linalg.norm(coords, axis=1)"
   ]
  }
 ],
 "metadata": {
  "kernelspec": {
   "display_name": "coords-nsga2",
   "language": "python",
   "name": "python3"
  },
  "language_info": {
   "codemirror_mode": {
    "name": "ipython",
    "version": 3
   },
   "file_extension": ".py",
   "mimetype": "text/x-python",
   "name": "python",
   "nbconvert_exporter": "python",
   "pygments_lexer": "ipython3",
   "version": "3.12.11"
  }
 },
 "nbformat": 4,
 "nbformat_minor": 5
}
