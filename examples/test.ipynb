{
 "cells": [
  {
   "cell_type": "code",
   "execution_count": null,
   "id": "112a57f5",
   "metadata": {},
   "outputs": [],
   "source": [
    "import numpy as np\n",
    "from coord_nsga2 import coord_nsga2"
   ]
  },
  {
   "cell_type": "code",
   "execution_count": null,
   "id": "eae35ce7",
   "metadata": {},
   "outputs": [],
   "source": [
    "def objective_1(coords):\n",
    "    \"\"\"\n",
    "    coords: shape为(N, 2)的坐标列表\n",
    "    return标量值\n",
    "    \"\"\"\n",
    "    coords = np.array(coords)  # todo: 这里可以把转化提到外面去\n",
    "    return coords[0][0]\n",
    "\n",
    "\n",
    "def objective_2(coords):\n",
    "    \"\"\"\n",
    "    coords: shape为(N, 2)的坐标列表\n",
    "    return标量值\n",
    "    \"\"\"\n",
    "    coords = np.array(coords)\n",
    "    return coords[0][1]"
   ]
  },
  {
   "cell_type": "code",
   "execution_count": null,
   "id": "5ce004e1",
   "metadata": {},
   "outputs": [],
   "source": [
    "def constraint_1(coords):\n",
    "    \"\"\"\n",
    "    coords: shape为(N, 2)的坐标列表\n",
    "    return标量值表示违背约束的程度\n",
    "    \"\"\"\n",
    "    coords = np.array(coords)\n",
    "    return coords[0][0] + coords[0][1] - 1\n",
    "\n",
    "\n",
    "def constraint_2(coords):\n",
    "    \"\"\"\n",
    "    coords: shape为(N, 2)的坐标列表\n",
    "    return标量值表示违背约束的程度\n",
    "    \"\"\"\n",
    "    coords = np.array(coords)\n",
    "    return coords[1][0] + coords[1][1] - 1"
   ]
  },
  {
   "cell_type": "code",
   "execution_count": null,
   "id": "031ff1c8",
   "metadata": {},
   "outputs": [],
   "source": [
    "# region = xxx # 给的点的可分布区域 可以是坐标各个分量的范围或者复杂的多边形或者其他 可以采用外部算子"
   ]
  },
  {
   "cell_type": "code",
   "execution_count": null,
   "id": "cb569e6e",
   "metadata": {},
   "outputs": [],
   "source": [
    "# 定义优化问题\n",
    "optimizer = coord_nsga2(objectives=[objective_1, objective_2],\n",
    "                        constraints=[constraint_1, constraint_2],\n",
    "                        points_num=100,\n",
    "                        population_size=50,\n",
    "                        prob_cross=0.9,\n",
    "                        prob_mut=0.1,\n",
    "                        region=region,\n",
    "                        seed=42)"
   ]
  },
  {
   "cell_type": "code",
   "execution_count": null,
   "id": "566883df",
   "metadata": {},
   "outputs": [],
   "source": [
    "# 运行优化\n",
    "result = optimizer.run(iter_num=1000,\n",
    "                       verbose=0,  # 0表示不输出日志，其他表示每隔几步输出日志\n",
    "                       converge_handler=None,  # 设定收敛处理器\n",
    "                       #   save_path='results',  # 如果有的话运行完保存，设定保存结果的路径\n",
    "                       )"
   ]
  },
  {
   "cell_type": "code",
   "execution_count": null,
   "id": "e0bfda71",
   "metadata": {},
   "outputs": [],
   "source": [
    "# 中途更改突变交叉率\n",
    "optimizer.set_prob(prob_cross=0.8, prob_mut=0.2)"
   ]
  },
  {
   "cell_type": "code",
   "execution_count": null,
   "id": "d78a921c",
   "metadata": {},
   "outputs": [],
   "source": [
    "# 保存结果\n",
    "optimizer.save(path=\"./save.npz\")  # 保存结果\n",
    "# 加载结果\n",
    "optimizer.load(path=\"./save.npz\")  # 加载结果"
   ]
  },
  {
   "cell_type": "code",
   "execution_count": null,
   "id": "a37808a4",
   "metadata": {},
   "outputs": [],
   "source": [
    "# 后处理展示\n",
    "optimizer.postprocess.plot_objective_history()  # 绘制某个目标函数的历史变化\n",
    "# ..."
   ]
  }
 ],
 "metadata": {
  "kernelspec": {
   "display_name": "Python 3",
   "language": "python",
   "name": "python3"
  },
  "language_info": {
   "codemirror_mode": {
    "name": "ipython",
    "version": 3
   },
   "file_extension": ".py",
   "mimetype": "text/x-python",
   "name": "python",
   "nbconvert_exporter": "python",
   "pygments_lexer": "ipython3",
   "version": "3.12.9"
  }
 },
 "nbformat": 4,
 "nbformat_minor": 5
}
